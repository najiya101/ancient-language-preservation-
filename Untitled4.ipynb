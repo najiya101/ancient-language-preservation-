{
 "cells": [
  {
   "cell_type": "code",
   "execution_count": 1,
   "id": "b0a4eb31-a9e9-4aa7-a375-2d7a8308a3aa",
   "metadata": {},
   "outputs": [],
   "source": [
    "import pytesseract"
   ]
  },
  {
   "cell_type": "code",
   "execution_count": 3,
   "id": "560aeb62-a995-4fb5-8331-fd152768b609",
   "metadata": {},
   "outputs": [],
   "source": [
    "from PIL import Image, ImageFilter, ImageOps"
   ]
  },
  {
   "cell_type": "code",
   "execution_count": 5,
   "id": "7745e052-a88c-458d-a7c2-c0a970c69366",
   "metadata": {},
   "outputs": [],
   "source": [
    "from pytesseract import image_to_string"
   ]
  },
  {
   "cell_type": "code",
   "execution_count": 108,
   "id": "1863b72e-d473-456e-a7d7-35b38c626274",
   "metadata": {},
   "outputs": [],
   "source": [
    "img = Image.open('image1.png').convert('L')"
   ]
  },
  {
   "cell_type": "code",
   "execution_count": 110,
   "id": "17489eaf-0f9c-4086-ae6a-f447846ff3d6",
   "metadata": {},
   "outputs": [],
   "source": [
    "img = ImageOps.autocontrast(img)  # Enhance contrast"
   ]
  },
  {
   "cell_type": "code",
   "execution_count": 112,
   "id": "70c0a09f-5a07-4d4f-bfc1-794089b610a6",
   "metadata": {},
   "outputs": [],
   "source": [
    "img = img.filter(ImageFilter.MedianFilter(size=3))  # Reduce noise"
   ]
  },
  {
   "cell_type": "code",
   "execution_count": 114,
   "id": "51c59624-800a-408d-8361-5859a5b78ffb",
   "metadata": {},
   "outputs": [],
   "source": [
    "text = image_to_string(img, lang='san')"
   ]
  },
  {
   "cell_type": "code",
   "execution_count": 116,
   "id": "71b585d0-e6fa-4ef1-8ce8-92c870603892",
   "metadata": {},
   "outputs": [],
   "source": [
    "img.save('processed_image.png')"
   ]
  },
  {
   "cell_type": "code",
   "execution_count": 118,
   "id": "730efb50-1a3c-4013-84ed-a0b0c8156347",
   "metadata": {},
   "outputs": [],
   "source": [
    "text = image_to_string(img, lang='san')"
   ]
  },
  {
   "cell_type": "code",
   "execution_count": 120,
   "id": "b5263cd7-b32b-4152-a6b7-738ab8688ebd",
   "metadata": {},
   "outputs": [],
   "source": [
    "import re"
   ]
  },
  {
   "cell_type": "code",
   "execution_count": 122,
   "id": "aca4239b-fa4e-41ce-8c40-1fdbff401210",
   "metadata": {},
   "outputs": [],
   "source": [
    "text = re.sub(r'[^ऀ-ॿ\\s]', '', text)  # Keep only Devanagari script characters"
   ]
  },
  {
   "cell_type": "code",
   "execution_count": 124,
   "id": "b60694e8-51ce-4a19-b124-7cb770f0781a",
   "metadata": {},
   "outputs": [
    {
     "name": "stdout",
     "output_type": "stream",
     "text": [
      " \n",
      "\n",
      " मदेष्वासा भीमार्जनसमा यथि\n",
      " युयुधानो विराटश्च पदश्च\n",
      "शारा मदेष्वासा ओमार्जुनसमा यथि\n",
      "युयुधानो विराटश्च दृपदश्च मदारथः\n",
      "शरा मदैष्वासा भीमार्जनसमा यथि\n",
      " युयुधानो विराटश्च दपदश्च\n",
      "\n",
      "  \n",
      " \n",
      "  \n",
      "  \n",
      "\f",
      "\n"
     ]
    }
   ],
   "source": [
    "print(text)"
   ]
  },
  {
   "cell_type": "code",
   "execution_count": null,
   "id": "a595cfef-ad0d-4114-bc33-3d982bc01e9d",
   "metadata": {},
   "outputs": [],
   "source": []
  }
 ],
 "metadata": {
  "kernelspec": {
   "display_name": "Python [conda env:base] *",
   "language": "python",
   "name": "conda-base-py"
  },
  "language_info": {
   "codemirror_mode": {
    "name": "ipython",
    "version": 3
   },
   "file_extension": ".py",
   "mimetype": "text/x-python",
   "name": "python",
   "nbconvert_exporter": "python",
   "pygments_lexer": "ipython3",
   "version": "3.12.7"
  }
 },
 "nbformat": 4,
 "nbformat_minor": 5
}
